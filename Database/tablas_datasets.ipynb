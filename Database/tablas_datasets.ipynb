{
 "cells": [
  {
   "cell_type": "markdown",
   "metadata": {},
   "source": [
    "# Creacion Tablas Datasets "
   ]
  },
  {
   "cell_type": "markdown",
   "metadata": {},
   "source": [
    "En este Jupyter notebook vamos a crear las tablas en la Data Base PostgeSQL, para los 2 Datasets que usaremos: el original y el transformado  "
   ]
  },
  {
   "cell_type": "markdown",
   "metadata": {},
   "source": [
    "## Agregamos la ruta a la raíz del proyecto al sys.path para facilitar importaciones "
   ]
  },
  {
   "cell_type": "code",
   "execution_count": 8,
   "metadata": {},
   "outputs": [],
   "source": [
    "import sys\n",
    "import os\n",
    "\n",
    "notebook_dir = os.getcwd()\n",
    "root_dir = os.path.abspath(os.path.join(notebook_dir, '..'))\n",
    "sys.path.append(root_dir)"
   ]
  },
  {
   "cell_type": "markdown",
   "metadata": {},
   "source": [
    "## Importamos la libreria y la conexion "
   ]
  },
  {
   "cell_type": "code",
   "execution_count": 10,
   "metadata": {},
   "outputs": [],
   "source": [
    "import psycopg2\n",
    "from Database.conexion_BD import create_connection"
   ]
  },
  {
   "cell_type": "markdown",
   "metadata": {},
   "source": [
    "## Creamos la tabla para el Dataset Original "
   ]
  },
  {
   "cell_type": "code",
   "execution_count": 11,
   "metadata": {},
   "outputs": [
    {
     "name": "stdout",
     "output_type": "stream",
     "text": [
      "Conexión exitosa a la base de datos PostgreSQL.\n",
      "Tabla 'flights' creada exitosamente.\n"
     ]
    }
   ],
   "source": [
    "def create_table():\n",
    "    \"\"\"Crea la tabla en la base de datos PostgreSQL usando la conexión dada.\"\"\"\n",
    "    connection = create_connection()\n",
    "    \n",
    "    if connection is not None:\n",
    "        try:\n",
    "            cursor = connection.cursor()\n",
    "            \n",
    "            create_table_query = \"\"\"\n",
    "            CREATE TABLE IF NOT EXISTS flights (\n",
    "                month INT,\n",
    "                day_of_week INT,\n",
    "                dep_del15 INT,\n",
    "                dep_time_blk VARCHAR(100),\n",
    "                distance_group INT,\n",
    "                segment_number INT,\n",
    "                concurrent_flights INT,\n",
    "                number_of_seats INT,\n",
    "                carrier_name VARCHAR(250),\n",
    "                airport_flights_month INT,\n",
    "                airline_flights_month INT,\n",
    "                airline_airport_flights_month INT,\n",
    "                avg_monthly_pass_airport FLOAT,\n",
    "                avg_monthly_pass_airline FLOAT,\n",
    "                flt_attendants_per_pass FLOAT,\n",
    "                ground_serv_per_pass FLOAT,\n",
    "                plane_age FLOAT,\n",
    "                departing_airport VARCHAR(250),\n",
    "                latitude FLOAT,\n",
    "                longitude FLOAT,\n",
    "                previous_airport VARCHAR(250),\n",
    "                prcp FLOAT,\n",
    "                snow FLOAT,\n",
    "                snwd FLOAT,\n",
    "                tmax FLOAT,\n",
    "                awnd FLOAT,\n",
    "                carrier_historical FLOAT,\n",
    "                dep_airport_hist FLOAT,\n",
    "                day_historical FLOAT,\n",
    "                dep_block_hist FLOAT\n",
    "            );\n",
    "            \"\"\"\n",
    "            \n",
    "            cursor.execute(create_table_query)\n",
    "            connection.commit()\n",
    "            print(\"Tabla 'flights' creada exitosamente.\")\n",
    "        \n",
    "        except (Exception, psycopg2.Error) as error:\n",
    "            print(f\"Error al crear la tabla: {error}\")\n",
    "        \n",
    "        finally:\n",
    "            if cursor:\n",
    "                cursor.close()\n",
    "            if connection:\n",
    "                connection.close()\n",
    "\n",
    "if __name__ == \"__main__\":\n",
    "    create_table()"
   ]
  }
 ],
 "metadata": {
  "kernelspec": {
   "display_name": "venv",
   "language": "python",
   "name": "python3"
  },
  "language_info": {
   "codemirror_mode": {
    "name": "ipython",
    "version": 3
   },
   "file_extension": ".py",
   "mimetype": "text/x-python",
   "name": "python",
   "nbconvert_exporter": "python",
   "pygments_lexer": "ipython3",
   "version": "3.12.4"
  }
 },
 "nbformat": 4,
 "nbformat_minor": 2
}
