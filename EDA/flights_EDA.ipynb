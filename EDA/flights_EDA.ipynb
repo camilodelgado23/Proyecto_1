{
 "cells": [
  {
   "cell_type": "markdown",
   "metadata": {},
   "source": [
    "# E.D.A Dataset train"
   ]
  },
  {
   "cell_type": "markdown",
   "metadata": {},
   "source": [
    "En este notebook hacemos el E.D.A al dataset original train.csv, esto con el objetivo de Comprender los datos, Evaluar la calidad de los datos, Limpiar los datos, Reducir su complejidad y Sacar conclusiones sobre el contenido de este"
   ]
  },
  {
   "cell_type": "markdown",
   "metadata": {},
   "source": [
    "#### Añadimos el directorio raíz al sys.path para facilitar importaciones"
   ]
  },
  {
   "cell_type": "code",
   "execution_count": 1,
   "metadata": {},
   "outputs": [
    {
     "name": "stdout",
     "output_type": "stream",
     "text": [
      "Directorio de trabajo actual después del cambio: c:\\Users\\mirlo\\proyecto1\n"
     ]
    }
   ],
   "source": [
    "import os\n",
    "\n",
    "notebook_dir = os.getcwd()\n",
    "root_dir = os.path.abspath(os.path.join(notebook_dir, '..'))\n",
    "os.chdir(root_dir)\n",
    "\n",
    "print(\"Directorio de trabajo actual después del cambio:\", os.getcwd())"
   ]
  },
  {
   "cell_type": "markdown",
   "metadata": {},
   "source": [
    "#### Importamos las Librerias"
   ]
  },
  {
   "cell_type": "code",
   "execution_count": 20,
   "metadata": {},
   "outputs": [],
   "source": [
    "import pandas as pd\n",
    "import seaborn as sns\n",
    "import matplotlib.pyplot as plt"
   ]
  },
  {
   "cell_type": "markdown",
   "metadata": {},
   "source": [
    "#### Importamos la conexion "
   ]
  },
  {
   "cell_type": "code",
   "execution_count": 5,
   "metadata": {},
   "outputs": [
    {
     "name": "stdout",
     "output_type": "stream",
     "text": [
      "Conexión exitosa a la base de datos PostgreSQL.\n",
      "Conexión establecida con éxito.\n"
     ]
    }
   ],
   "source": [
    "from Database.conexion_BD import create_connection\n",
    "\n",
    "connection = create_connection()\n",
    "if connection is not None:\n",
    "    print(\"Conexión establecida con éxito.\")\n",
    "else:\n",
    "    print(\"No se pudo establecer la conexión.\")"
   ]
  },
  {
   "cell_type": "markdown",
   "metadata": {},
   "source": [
    "#### Cargamos la tabla flights ubicada en la Base de Datos PostgreSQL, y la almacenamos en un Dataframe "
   ]
  },
  {
   "cell_type": "code",
   "execution_count": 6,
   "metadata": {},
   "outputs": [
    {
     "name": "stderr",
     "output_type": "stream",
     "text": [
      "C:\\Users\\mirlo\\AppData\\Local\\Temp\\ipykernel_15964\\3754038683.py:4: UserWarning: pandas only supports SQLAlchemy connectable (engine/connection) or database string URI or sqlite3 DBAPI2 connection. Other DBAPI2 objects are not tested. Please consider using SQLAlchemy.\n",
      "  flights = pd.read_sql(query, con=connection)\n"
     ]
    },
    {
     "data": {
      "text/html": [
       "<div>\n",
       "<style scoped>\n",
       "    .dataframe tbody tr th:only-of-type {\n",
       "        vertical-align: middle;\n",
       "    }\n",
       "\n",
       "    .dataframe tbody tr th {\n",
       "        vertical-align: top;\n",
       "    }\n",
       "\n",
       "    .dataframe thead th {\n",
       "        text-align: right;\n",
       "    }\n",
       "</style>\n",
       "<table border=\"1\" class=\"dataframe\">\n",
       "  <thead>\n",
       "    <tr style=\"text-align: right;\">\n",
       "      <th></th>\n",
       "      <th>month</th>\n",
       "      <th>day_of_week</th>\n",
       "      <th>dep_del15</th>\n",
       "      <th>dep_time_blk</th>\n",
       "      <th>distance_group</th>\n",
       "      <th>segment_number</th>\n",
       "      <th>concurrent_flights</th>\n",
       "      <th>number_of_seats</th>\n",
       "      <th>carrier_name</th>\n",
       "      <th>airport_flights_month</th>\n",
       "      <th>...</th>\n",
       "      <th>previous_airport</th>\n",
       "      <th>prcp</th>\n",
       "      <th>snow</th>\n",
       "      <th>snwd</th>\n",
       "      <th>tmax</th>\n",
       "      <th>awnd</th>\n",
       "      <th>carrier_historical</th>\n",
       "      <th>dep_airport_hist</th>\n",
       "      <th>day_historical</th>\n",
       "      <th>dep_block_hist</th>\n",
       "    </tr>\n",
       "  </thead>\n",
       "  <tbody>\n",
       "    <tr>\n",
       "      <th>0</th>\n",
       "      <td>9</td>\n",
       "      <td>4</td>\n",
       "      <td>0</td>\n",
       "      <td>1700-1759</td>\n",
       "      <td>4</td>\n",
       "      <td>5</td>\n",
       "      <td>64</td>\n",
       "      <td>143</td>\n",
       "      <td>Southwest Airlines Co.</td>\n",
       "      <td>21760</td>\n",
       "      <td>...</td>\n",
       "      <td>Chicago Midway International</td>\n",
       "      <td>0.0</td>\n",
       "      <td>0.0</td>\n",
       "      <td>0.0</td>\n",
       "      <td>760.0</td>\n",
       "      <td>1007.0</td>\n",
       "      <td>1.248290e+16</td>\n",
       "      <td>1.528070e+16</td>\n",
       "      <td>1.673210e+16</td>\n",
       "      <td>1.892080e+16</td>\n",
       "    </tr>\n",
       "    <tr>\n",
       "      <th>1</th>\n",
       "      <td>3</td>\n",
       "      <td>1</td>\n",
       "      <td>0</td>\n",
       "      <td>1600-1659</td>\n",
       "      <td>6</td>\n",
       "      <td>1</td>\n",
       "      <td>16</td>\n",
       "      <td>230</td>\n",
       "      <td>Frontier Airlines Inc.</td>\n",
       "      <td>5701</td>\n",
       "      <td>...</td>\n",
       "      <td>NONE</td>\n",
       "      <td>0.0</td>\n",
       "      <td>0.0</td>\n",
       "      <td>0.0</td>\n",
       "      <td>520.0</td>\n",
       "      <td>403.0</td>\n",
       "      <td>2.116660e+15</td>\n",
       "      <td>1.878670e+16</td>\n",
       "      <td>1.608680e+15</td>\n",
       "      <td>2.163590e+16</td>\n",
       "    </tr>\n",
       "    <tr>\n",
       "      <th>2</th>\n",
       "      <td>1</td>\n",
       "      <td>3</td>\n",
       "      <td>0</td>\n",
       "      <td>1400-1459</td>\n",
       "      <td>6</td>\n",
       "      <td>1</td>\n",
       "      <td>57</td>\n",
       "      <td>142</td>\n",
       "      <td>United Air Lines Inc.</td>\n",
       "      <td>14501</td>\n",
       "      <td>...</td>\n",
       "      <td>NONE</td>\n",
       "      <td>0.0</td>\n",
       "      <td>0.0</td>\n",
       "      <td>0.0</td>\n",
       "      <td>830.0</td>\n",
       "      <td>604.0</td>\n",
       "      <td>1.818820e+16</td>\n",
       "      <td>1.878670e+16</td>\n",
       "      <td>1.806070e+16</td>\n",
       "      <td>2.107150e+16</td>\n",
       "    </tr>\n",
       "    <tr>\n",
       "      <th>3</th>\n",
       "      <td>6</td>\n",
       "      <td>2</td>\n",
       "      <td>0</td>\n",
       "      <td>1600-1659</td>\n",
       "      <td>2</td>\n",
       "      <td>3</td>\n",
       "      <td>18</td>\n",
       "      <td>175</td>\n",
       "      <td>Southwest Airlines Co.</td>\n",
       "      <td>5661</td>\n",
       "      <td>...</td>\n",
       "      <td>Metropolitan Oakland International</td>\n",
       "      <td>0.0</td>\n",
       "      <td>0.0</td>\n",
       "      <td>0.0</td>\n",
       "      <td>830.0</td>\n",
       "      <td>492.0</td>\n",
       "      <td>2.597750e+15</td>\n",
       "      <td>2.377930e+16</td>\n",
       "      <td>2.323880e+16</td>\n",
       "      <td>3.277900e+16</td>\n",
       "    </tr>\n",
       "    <tr>\n",
       "      <th>4</th>\n",
       "      <td>8</td>\n",
       "      <td>6</td>\n",
       "      <td>0</td>\n",
       "      <td>1100-1159</td>\n",
       "      <td>1</td>\n",
       "      <td>3</td>\n",
       "      <td>19</td>\n",
       "      <td>100</td>\n",
       "      <td>JetBlue Airways</td>\n",
       "      <td>13118</td>\n",
       "      <td>...</td>\n",
       "      <td>Raleigh-Durham International</td>\n",
       "      <td>0.0</td>\n",
       "      <td>0.0</td>\n",
       "      <td>0.0</td>\n",
       "      <td>820.0</td>\n",
       "      <td>1297.0</td>\n",
       "      <td>3.166630e+15</td>\n",
       "      <td>2.284980e+16</td>\n",
       "      <td>1.618700e+16</td>\n",
       "      <td>1.651240e+16</td>\n",
       "    </tr>\n",
       "  </tbody>\n",
       "</table>\n",
       "<p>5 rows × 30 columns</p>\n",
       "</div>"
      ],
      "text/plain": [
       "   month  day_of_week  dep_del15 dep_time_blk  distance_group  segment_number  \\\n",
       "0      9            4          0    1700-1759               4               5   \n",
       "1      3            1          0    1600-1659               6               1   \n",
       "2      1            3          0    1400-1459               6               1   \n",
       "3      6            2          0    1600-1659               2               3   \n",
       "4      8            6          0    1100-1159               1               3   \n",
       "\n",
       "   concurrent_flights  number_of_seats            carrier_name  \\\n",
       "0                  64              143  Southwest Airlines Co.   \n",
       "1                  16              230  Frontier Airlines Inc.   \n",
       "2                  57              142   United Air Lines Inc.   \n",
       "3                  18              175  Southwest Airlines Co.   \n",
       "4                  19              100         JetBlue Airways   \n",
       "\n",
       "   airport_flights_month  ...                    previous_airport  prcp  snow  \\\n",
       "0                  21760  ...        Chicago Midway International   0.0   0.0   \n",
       "1                   5701  ...                                NONE   0.0   0.0   \n",
       "2                  14501  ...                                NONE   0.0   0.0   \n",
       "3                   5661  ...  Metropolitan Oakland International   0.0   0.0   \n",
       "4                  13118  ...        Raleigh-Durham International   0.0   0.0   \n",
       "\n",
       "   snwd   tmax    awnd  carrier_historical dep_airport_hist  day_historical  \\\n",
       "0   0.0  760.0  1007.0        1.248290e+16     1.528070e+16    1.673210e+16   \n",
       "1   0.0  520.0   403.0        2.116660e+15     1.878670e+16    1.608680e+15   \n",
       "2   0.0  830.0   604.0        1.818820e+16     1.878670e+16    1.806070e+16   \n",
       "3   0.0  830.0   492.0        2.597750e+15     2.377930e+16    2.323880e+16   \n",
       "4   0.0  820.0  1297.0        3.166630e+15     2.284980e+16    1.618700e+16   \n",
       "\n",
       "   dep_block_hist  \n",
       "0    1.892080e+16  \n",
       "1    2.163590e+16  \n",
       "2    2.107150e+16  \n",
       "3    3.277900e+16  \n",
       "4    1.651240e+16  \n",
       "\n",
       "[5 rows x 30 columns]"
      ]
     },
     "execution_count": 6,
     "metadata": {},
     "output_type": "execute_result"
    }
   ],
   "source": [
    "table_name = 'flights' \n",
    "\n",
    "query = f\"SELECT * FROM {table_name};\"\n",
    "flights = pd.read_sql(query, con=connection)\n",
    "flights.head()"
   ]
  },
  {
   "cell_type": "markdown",
   "metadata": {},
   "source": [
    "#### Contexto Dataset "
   ]
  },
  {
   "cell_type": "markdown",
   "metadata": {},
   "source": [
    "Este Dataset fue extraido de la pagina web kaggle una plataforma de competencia de ciencia de datos y una comunidad en línea para científicos de datos y profesionales del aprendizaje automático de Google LLC.\n",
    "\n",
    "Este Dataset contiene informacion sobre vuelos retrasados en el año 2019 con informacion sobre el clima, aereopuerto entre otros, para un mayor detalle puede visitar la pagina de donde salio en el siguiente enlace: https://www.kaggle.com/datasets/threnjen2019-airline-delays-and-cancellations?select=train.csv"
   ]
  },
  {
   "cell_type": "markdown",
   "metadata": {},
   "source": [
    "##### Exploramos el Dataset para ver su contenido"
   ]
  },
  {
   "cell_type": "markdown",
   "metadata": {},
   "source": [
    "Numero de filas y columnas "
   ]
  },
  {
   "cell_type": "code",
   "execution_count": 7,
   "metadata": {},
   "outputs": [
    {
     "name": "stdout",
     "output_type": "stream",
     "text": [
      "Tamaño del Dataset: 1048575 filas y 30 columnas\n"
     ]
    }
   ],
   "source": [
    "num_rows, num_columns = flights.shape\n",
    "print(f\"Tamaño del Dataset: {num_rows} filas y {num_columns} columnas\")"
   ]
  },
  {
   "cell_type": "markdown",
   "metadata": {},
   "source": [
    "Revisamos el tipo de datos y la cantidad de valores unicos en el dataset "
   ]
  },
  {
   "cell_type": "code",
   "execution_count": 14,
   "metadata": {},
   "outputs": [
    {
     "data": {
      "text/html": [
       "<div>\n",
       "<style scoped>\n",
       "    .dataframe tbody tr th:only-of-type {\n",
       "        vertical-align: middle;\n",
       "    }\n",
       "\n",
       "    .dataframe tbody tr th {\n",
       "        vertical-align: top;\n",
       "    }\n",
       "\n",
       "    .dataframe thead th {\n",
       "        text-align: right;\n",
       "    }\n",
       "</style>\n",
       "<table border=\"1\" class=\"dataframe\">\n",
       "  <thead>\n",
       "    <tr style=\"text-align: right;\">\n",
       "      <th></th>\n",
       "      <th>Tipo de Dato</th>\n",
       "      <th>Valores Únicos</th>\n",
       "    </tr>\n",
       "  </thead>\n",
       "  <tbody>\n",
       "    <tr>\n",
       "      <th>month</th>\n",
       "      <td>int64</td>\n",
       "      <td>12</td>\n",
       "    </tr>\n",
       "    <tr>\n",
       "      <th>day_of_week</th>\n",
       "      <td>int64</td>\n",
       "      <td>7</td>\n",
       "    </tr>\n",
       "    <tr>\n",
       "      <th>dep_del15</th>\n",
       "      <td>int64</td>\n",
       "      <td>2</td>\n",
       "    </tr>\n",
       "    <tr>\n",
       "      <th>dep_time_blk</th>\n",
       "      <td>object</td>\n",
       "      <td>19</td>\n",
       "    </tr>\n",
       "    <tr>\n",
       "      <th>distance_group</th>\n",
       "      <td>int64</td>\n",
       "      <td>11</td>\n",
       "    </tr>\n",
       "    <tr>\n",
       "      <th>segment_number</th>\n",
       "      <td>int64</td>\n",
       "      <td>15</td>\n",
       "    </tr>\n",
       "    <tr>\n",
       "      <th>concurrent_flights</th>\n",
       "      <td>int64</td>\n",
       "      <td>107</td>\n",
       "    </tr>\n",
       "    <tr>\n",
       "      <th>number_of_seats</th>\n",
       "      <td>int64</td>\n",
       "      <td>82</td>\n",
       "    </tr>\n",
       "    <tr>\n",
       "      <th>carrier_name</th>\n",
       "      <td>object</td>\n",
       "      <td>17</td>\n",
       "    </tr>\n",
       "    <tr>\n",
       "      <th>airport_flights_month</th>\n",
       "      <td>int64</td>\n",
       "      <td>969</td>\n",
       "    </tr>\n",
       "    <tr>\n",
       "      <th>airline_flights_month</th>\n",
       "      <td>int64</td>\n",
       "      <td>204</td>\n",
       "    </tr>\n",
       "    <tr>\n",
       "      <th>airline_airport_flights_month</th>\n",
       "      <td>int64</td>\n",
       "      <td>2119</td>\n",
       "    </tr>\n",
       "    <tr>\n",
       "      <th>avg_monthly_pass_airport</th>\n",
       "      <td>float64</td>\n",
       "      <td>96</td>\n",
       "    </tr>\n",
       "    <tr>\n",
       "      <th>avg_monthly_pass_airline</th>\n",
       "      <td>float64</td>\n",
       "      <td>17</td>\n",
       "    </tr>\n",
       "    <tr>\n",
       "      <th>flt_attendants_per_pass</th>\n",
       "      <td>float64</td>\n",
       "      <td>14</td>\n",
       "    </tr>\n",
       "    <tr>\n",
       "      <th>ground_serv_per_pass</th>\n",
       "      <td>float64</td>\n",
       "      <td>17</td>\n",
       "    </tr>\n",
       "    <tr>\n",
       "      <th>plane_age</th>\n",
       "      <td>float64</td>\n",
       "      <td>33</td>\n",
       "    </tr>\n",
       "    <tr>\n",
       "      <th>departing_airport</th>\n",
       "      <td>object</td>\n",
       "      <td>96</td>\n",
       "    </tr>\n",
       "    <tr>\n",
       "      <th>latitude</th>\n",
       "      <td>float64</td>\n",
       "      <td>96</td>\n",
       "    </tr>\n",
       "    <tr>\n",
       "      <th>longitude</th>\n",
       "      <td>float64</td>\n",
       "      <td>96</td>\n",
       "    </tr>\n",
       "    <tr>\n",
       "      <th>previous_airport</th>\n",
       "      <td>object</td>\n",
       "      <td>354</td>\n",
       "    </tr>\n",
       "    <tr>\n",
       "      <th>prcp</th>\n",
       "      <td>float64</td>\n",
       "      <td>273</td>\n",
       "    </tr>\n",
       "    <tr>\n",
       "      <th>snow</th>\n",
       "      <td>float64</td>\n",
       "      <td>75</td>\n",
       "    </tr>\n",
       "    <tr>\n",
       "      <th>snwd</th>\n",
       "      <td>float64</td>\n",
       "      <td>28</td>\n",
       "    </tr>\n",
       "    <tr>\n",
       "      <th>tmax</th>\n",
       "      <td>float64</td>\n",
       "      <td>124</td>\n",
       "    </tr>\n",
       "    <tr>\n",
       "      <th>awnd</th>\n",
       "      <td>float64</td>\n",
       "      <td>129</td>\n",
       "    </tr>\n",
       "    <tr>\n",
       "      <th>carrier_historical</th>\n",
       "      <td>float64</td>\n",
       "      <td>204</td>\n",
       "    </tr>\n",
       "    <tr>\n",
       "      <th>dep_airport_hist</th>\n",
       "      <td>float64</td>\n",
       "      <td>1050</td>\n",
       "    </tr>\n",
       "    <tr>\n",
       "      <th>day_historical</th>\n",
       "      <td>float64</td>\n",
       "      <td>84</td>\n",
       "    </tr>\n",
       "    <tr>\n",
       "      <th>dep_block_hist</th>\n",
       "      <td>float64</td>\n",
       "      <td>228</td>\n",
       "    </tr>\n",
       "  </tbody>\n",
       "</table>\n",
       "</div>"
      ],
      "text/plain": [
       "                              Tipo de Dato  Valores Únicos\n",
       "month                                int64              12\n",
       "day_of_week                          int64               7\n",
       "dep_del15                            int64               2\n",
       "dep_time_blk                        object              19\n",
       "distance_group                       int64              11\n",
       "segment_number                       int64              15\n",
       "concurrent_flights                   int64             107\n",
       "number_of_seats                      int64              82\n",
       "carrier_name                        object              17\n",
       "airport_flights_month                int64             969\n",
       "airline_flights_month                int64             204\n",
       "airline_airport_flights_month        int64            2119\n",
       "avg_monthly_pass_airport           float64              96\n",
       "avg_monthly_pass_airline           float64              17\n",
       "flt_attendants_per_pass            float64              14\n",
       "ground_serv_per_pass               float64              17\n",
       "plane_age                          float64              33\n",
       "departing_airport                   object              96\n",
       "latitude                           float64              96\n",
       "longitude                          float64              96\n",
       "previous_airport                    object             354\n",
       "prcp                               float64             273\n",
       "snow                               float64              75\n",
       "snwd                               float64              28\n",
       "tmax                               float64             124\n",
       "awnd                               float64             129\n",
       "carrier_historical                 float64             204\n",
       "dep_airport_hist                   float64            1050\n",
       "day_historical                     float64              84\n",
       "dep_block_hist                     float64             228"
      ]
     },
     "execution_count": 14,
     "metadata": {},
     "output_type": "execute_result"
    }
   ],
   "source": [
    "summary = pd.DataFrame({\n",
    "    'Tipo de Dato': flights.dtypes,\n",
    "    'Valores Únicos': [flights[col].nunique() for col in flights.columns],\n",
    "})\n",
    "\n",
    "summary"
   ]
  },
  {
   "cell_type": "markdown",
   "metadata": {},
   "source": [
    "##### Descripcion de columnas "
   ]
  },
  {
   "cell_type": "markdown",
   "metadata": {},
   "source": [
    "1. Información Temporal:\n",
    "- **MONTH:** Mes del año.\n",
    "- **DAY_OF_WEEK:** Día de la semana.\n",
    "- **DEP_BLOCK_HIST:** Bloque de salida.\n",
    "2. Variables de Destino (Target):\n",
    "- **DEP_DEL15:** Indicador binario de un retraso de salida de más de 15 minutos (1 es sí).\n",
    "3. Características del Vuelo:\n",
    "- **DISTANCE_GROUP:** Grupo de distancia que volará la aeronave.\n",
    "- **SEGMENT_NUMBER:** Número de segmento en el que se encuentra la aeronave para el día.\n",
    "- **CONCURRENT_FLIGHTS:** Número de vuelos simultáneos que salen del aeropuerto en el mismo bloque de salida.\n",
    "- **NUMBER_OF_SEATS:** Número de asientos en la aeronave.\n",
    "- **PLANE_AGE:** Antigüedad de la aeronave que sale.\n",
    "4. Características del Transportista y Aeropuerto:\n",
    "- **CARRIER_NAME:** Nombre del transportista.\n",
    "- **AIRPORT_FLIGHTS_MONTH:** Promedio de vuelos del aeropuerto por mes.\n",
    "- **AIRLINE_FLIGHTS_MONTH:** Promedio de vuelos de la aerolínea por mes.\n",
    "- **AIRLINE_AIRPORT_FLIGHTS_MONTH:** Promedio de vuelos por mes para la aerolínea y el aeropuerto.\n",
    "- **AVG_MONTHLY_PASS_AIRPORT:** Promedio de pasajeros para el aeropuerto de salida para el mes.\n",
    "- **AVG_MONTHLY_PASS_AIRLINE:** Promedio de pasajeros por aerolínea para el mes.\n",
    "- **FLT_ATTENDANTS_PER_PASS:** Auxiliares de vuelo por pasajero de la aerolínea.\n",
    "- **GROUND_SERV_PER_PASS:** Empleados de servicio en tierra (mostrador de servicio) por pasajero de la aerolínea.\n",
    "5. Información Geográfica:\n",
    "- **DEPARTING_AIRPORT:** Aeropuerto de salida.\n",
    "- **LATITUDE:** Latitud del aeropuerto de salida.\n",
    "- **LONGITUDE:** Longitud del aeropuerto de salida.\n",
    "- **PREVIOUS_AIRPORT:** Aeropuerto anterior del que salió la aeronave.\n",
    "6. Condiciones Meteorológicas:\n",
    "- **PRCP:** Pulgadas de precipitación del día.\n",
    "- **SNOW:** Pulgadas de nevadas del día.\n",
    "- **SNWD:** Pulgadas de nieve en tierra del día.\n",
    "- **TMAX:** Temperatura máxima del día.\n",
    "- **AWND:** Velocidad máxima del viento del día"
   ]
  },
  {
   "cell_type": "markdown",
   "metadata": {},
   "source": [
    "#### Limpieza de Datos "
   ]
  },
  {
   "cell_type": "markdown",
   "metadata": {},
   "source": [
    "##### Verificamos la calidad de los datos"
   ]
  },
  {
   "cell_type": "markdown",
   "metadata": {},
   "source": [
    "Miramos si hay valores nulos "
   ]
  },
  {
   "cell_type": "code",
   "execution_count": 17,
   "metadata": {},
   "outputs": [
    {
     "name": "stdout",
     "output_type": "stream",
     "text": [
      "Valores Nulos:\n"
     ]
    },
    {
     "data": {
      "text/html": [
       "<div>\n",
       "<style scoped>\n",
       "    .dataframe tbody tr th:only-of-type {\n",
       "        vertical-align: middle;\n",
       "    }\n",
       "\n",
       "    .dataframe tbody tr th {\n",
       "        vertical-align: top;\n",
       "    }\n",
       "\n",
       "    .dataframe thead th {\n",
       "        text-align: right;\n",
       "    }\n",
       "</style>\n",
       "<table border=\"1\" class=\"dataframe\">\n",
       "  <thead>\n",
       "    <tr style=\"text-align: right;\">\n",
       "      <th></th>\n",
       "      <th>0</th>\n",
       "    </tr>\n",
       "  </thead>\n",
       "  <tbody>\n",
       "    <tr>\n",
       "      <th>month</th>\n",
       "      <td>0</td>\n",
       "    </tr>\n",
       "    <tr>\n",
       "      <th>day_of_week</th>\n",
       "      <td>0</td>\n",
       "    </tr>\n",
       "    <tr>\n",
       "      <th>dep_del15</th>\n",
       "      <td>0</td>\n",
       "    </tr>\n",
       "    <tr>\n",
       "      <th>dep_time_blk</th>\n",
       "      <td>0</td>\n",
       "    </tr>\n",
       "    <tr>\n",
       "      <th>distance_group</th>\n",
       "      <td>0</td>\n",
       "    </tr>\n",
       "    <tr>\n",
       "      <th>segment_number</th>\n",
       "      <td>0</td>\n",
       "    </tr>\n",
       "    <tr>\n",
       "      <th>concurrent_flights</th>\n",
       "      <td>0</td>\n",
       "    </tr>\n",
       "    <tr>\n",
       "      <th>number_of_seats</th>\n",
       "      <td>0</td>\n",
       "    </tr>\n",
       "    <tr>\n",
       "      <th>carrier_name</th>\n",
       "      <td>0</td>\n",
       "    </tr>\n",
       "    <tr>\n",
       "      <th>airport_flights_month</th>\n",
       "      <td>0</td>\n",
       "    </tr>\n",
       "    <tr>\n",
       "      <th>airline_flights_month</th>\n",
       "      <td>0</td>\n",
       "    </tr>\n",
       "    <tr>\n",
       "      <th>airline_airport_flights_month</th>\n",
       "      <td>0</td>\n",
       "    </tr>\n",
       "    <tr>\n",
       "      <th>avg_monthly_pass_airport</th>\n",
       "      <td>0</td>\n",
       "    </tr>\n",
       "    <tr>\n",
       "      <th>avg_monthly_pass_airline</th>\n",
       "      <td>0</td>\n",
       "    </tr>\n",
       "    <tr>\n",
       "      <th>flt_attendants_per_pass</th>\n",
       "      <td>0</td>\n",
       "    </tr>\n",
       "    <tr>\n",
       "      <th>ground_serv_per_pass</th>\n",
       "      <td>0</td>\n",
       "    </tr>\n",
       "    <tr>\n",
       "      <th>plane_age</th>\n",
       "      <td>0</td>\n",
       "    </tr>\n",
       "    <tr>\n",
       "      <th>departing_airport</th>\n",
       "      <td>0</td>\n",
       "    </tr>\n",
       "    <tr>\n",
       "      <th>latitude</th>\n",
       "      <td>0</td>\n",
       "    </tr>\n",
       "    <tr>\n",
       "      <th>longitude</th>\n",
       "      <td>0</td>\n",
       "    </tr>\n",
       "    <tr>\n",
       "      <th>previous_airport</th>\n",
       "      <td>0</td>\n",
       "    </tr>\n",
       "    <tr>\n",
       "      <th>prcp</th>\n",
       "      <td>0</td>\n",
       "    </tr>\n",
       "    <tr>\n",
       "      <th>snow</th>\n",
       "      <td>0</td>\n",
       "    </tr>\n",
       "    <tr>\n",
       "      <th>snwd</th>\n",
       "      <td>0</td>\n",
       "    </tr>\n",
       "    <tr>\n",
       "      <th>tmax</th>\n",
       "      <td>0</td>\n",
       "    </tr>\n",
       "    <tr>\n",
       "      <th>awnd</th>\n",
       "      <td>0</td>\n",
       "    </tr>\n",
       "    <tr>\n",
       "      <th>carrier_historical</th>\n",
       "      <td>0</td>\n",
       "    </tr>\n",
       "    <tr>\n",
       "      <th>dep_airport_hist</th>\n",
       "      <td>0</td>\n",
       "    </tr>\n",
       "    <tr>\n",
       "      <th>day_historical</th>\n",
       "      <td>0</td>\n",
       "    </tr>\n",
       "    <tr>\n",
       "      <th>dep_block_hist</th>\n",
       "      <td>0</td>\n",
       "    </tr>\n",
       "  </tbody>\n",
       "</table>\n",
       "</div>"
      ],
      "text/plain": [
       "                               0\n",
       "month                          0\n",
       "day_of_week                    0\n",
       "dep_del15                      0\n",
       "dep_time_blk                   0\n",
       "distance_group                 0\n",
       "segment_number                 0\n",
       "concurrent_flights             0\n",
       "number_of_seats                0\n",
       "carrier_name                   0\n",
       "airport_flights_month          0\n",
       "airline_flights_month          0\n",
       "airline_airport_flights_month  0\n",
       "avg_monthly_pass_airport       0\n",
       "avg_monthly_pass_airline       0\n",
       "flt_attendants_per_pass        0\n",
       "ground_serv_per_pass           0\n",
       "plane_age                      0\n",
       "departing_airport              0\n",
       "latitude                       0\n",
       "longitude                      0\n",
       "previous_airport               0\n",
       "prcp                           0\n",
       "snow                           0\n",
       "snwd                           0\n",
       "tmax                           0\n",
       "awnd                           0\n",
       "carrier_historical             0\n",
       "dep_airport_hist               0\n",
       "day_historical                 0\n",
       "dep_block_hist                 0"
      ]
     },
     "execution_count": 17,
     "metadata": {},
     "output_type": "execute_result"
    }
   ],
   "source": [
    "print(\"Valores Nulos:\")\n",
    "valores_nulos = pd.DataFrame(flights.isnull().sum())\n",
    "\n",
    "valores_nulos"
   ]
  },
  {
   "cell_type": "markdown",
   "metadata": {},
   "source": [
    "Miramos si hay valores duplicados "
   ]
  },
  {
   "cell_type": "code",
   "execution_count": 18,
   "metadata": {},
   "outputs": [
    {
     "name": "stdout",
     "output_type": "stream",
     "text": [
      "\n",
      "Valores Duplicados:\n",
      "Número de filas duplicadas: 845\n"
     ]
    }
   ],
   "source": [
    "print(\"\\nValores Duplicados:\")\n",
    "print(f\"Número de filas duplicadas: {flights.duplicated().sum()}\")"
   ]
  },
  {
   "cell_type": "markdown",
   "metadata": {},
   "source": [
    "No se encontraron valores nulos, sin embargo se encontraron 845 datos duplicados por lo que vamos a proceder a eliminarlas para asegurar que asegurar que el  análisis no esté influenciado por registros redundantes"
   ]
  },
  {
   "cell_type": "code",
   "execution_count": 28,
   "metadata": {},
   "outputs": [],
   "source": [
    "flights = flights.drop_duplicates()"
   ]
  },
  {
   "cell_type": "markdown",
   "metadata": {},
   "source": [
    "##### Buscamos datos atipicos "
   ]
  },
  {
   "cell_type": "markdown",
   "metadata": {},
   "source": [
    "Para las columnas del dia de la semana y mes traemos el valor minimo y maximo de esas columnas para verificar que no hayan datos incoherentes "
   ]
  },
  {
   "cell_type": "code",
   "execution_count": 29,
   "metadata": {},
   "outputs": [
    {
     "name": "stdout",
     "output_type": "stream",
     "text": [
      "Valor máximo de 'MONTH': 12\n",
      "Valor mínimo de 'MONTH': 1\n",
      "Valor máximo de 'DAY_OF_WEEK': 7\n",
      "Valor mínimo de 'DAY_OF_WEEK': 1\n",
      "Valor máximo de 'DEP_del15': 1\n",
      "Valor mínimo de 'DEP_del15': 0\n"
     ]
    }
   ],
   "source": [
    "max_month = flights['month'].max()\n",
    "min_month = flights['month'].min()\n",
    "\n",
    "max_day_of_week = flights['day_of_week'].max()\n",
    "min_day_of_week = flights['day_of_week'].min()\n",
    "\n",
    "max_dep_del15 = flights['dep_del15'].max()\n",
    "min_dep_del15 = flights['dep_del15'].min()\n",
    "\n",
    "print(f\"Valor máximo de 'MONTH': {max_month}\")\n",
    "print(f\"Valor mínimo de 'MONTH': {min_month}\")\n",
    "print(f\"Valor máximo de 'DAY_OF_WEEK': {max_day_of_week}\")\n",
    "print(f\"Valor mínimo de 'DAY_OF_WEEK': {min_day_of_week}\")\n",
    "print(f\"Valor máximo de 'DEP_del15': {max_dep_del15}\")\n",
    "print(f\"Valor mínimo de 'DEP_del15': {min_dep_del15}\")"
   ]
  },
  {
   "cell_type": "markdown",
   "metadata": {},
   "source": [
    "Los datos son coherentes devido a que son 12 meses representados con numeros, y los 7 dias de la semana tambien representados con numeros "
   ]
  },
  {
   "cell_type": "markdown",
   "metadata": {},
   "source": [
    "Verificamos si  hay datos negativos para estas columnas: distance_group segment_number, concurrent_flights, number_of_seats, flt_attendants_per_pass,   ground_serv_per_pass\n",
    "\n",
    "y en caso de que si, eliminarlos debido a que su precencia en estas seria ilogica "
   ]
  },
  {
   "cell_type": "code",
   "execution_count": 30,
   "metadata": {},
   "outputs": [
    {
     "name": "stdout",
     "output_type": "stream",
     "text": [
      "Valores negativos encontrados en las columnas especificadas:\n",
      "Empty DataFrame\n",
      "Columns: [month, day_of_week, dep_del15, dep_time_blk, distance_group, segment_number, concurrent_flights, number_of_seats, carrier_name, airport_flights_month, airline_flights_month, airline_airport_flights_month, avg_monthly_pass_airport, avg_monthly_pass_airline, flt_attendants_per_pass, ground_serv_per_pass, plane_age, departing_airport, latitude, longitude, previous_airport, prcp, snow, snwd, tmax, awnd, carrier_historical, dep_airport_hist, day_historical, dep_block_hist]\n",
      "Index: []\n",
      "\n",
      "[0 rows x 30 columns]\n"
     ]
    }
   ],
   "source": [
    "columns_to_check = ['distance_group', 'segment_number', 'concurrent_flights', 'number_of_seats', 'flt_attendants_per_pass', 'ground_serv_per_pass', 'plane_age']\n",
    "\n",
    "negative_values = flights[flights[columns_to_check].lt(0).any(axis=1)]\n",
    "\n",
    "print(\"Valores negativos encontrados en las columnas especificadas:\")\n",
    "print(negative_values)"
   ]
  },
  {
   "cell_type": "markdown",
   "metadata": {},
   "source": [
    "No encontramos valores negativos en estas columnas "
   ]
  },
  {
   "cell_type": "markdown",
   "metadata": {},
   "source": [
    "Hacemos lo mismo para las columnas: airport_flights_month, airline_flights_month, airline_airport_flights_month, avg_monthly_pass_airport, avg_monthly_pass_airline"
   ]
  },
  {
   "cell_type": "code",
   "execution_count": 31,
   "metadata": {},
   "outputs": [
    {
     "name": "stdout",
     "output_type": "stream",
     "text": [
      "Valores negativos encontrados en las columnas especificadas:\n",
      "Empty DataFrame\n",
      "Columns: [month, day_of_week, dep_del15, dep_time_blk, distance_group, segment_number, concurrent_flights, number_of_seats, carrier_name, airport_flights_month, airline_flights_month, airline_airport_flights_month, avg_monthly_pass_airport, avg_monthly_pass_airline, flt_attendants_per_pass, ground_serv_per_pass, plane_age, departing_airport, latitude, longitude, previous_airport, prcp, snow, snwd, tmax, awnd, carrier_historical, dep_airport_hist, day_historical, dep_block_hist]\n",
      "Index: []\n",
      "\n",
      "[0 rows x 30 columns]\n"
     ]
    }
   ],
   "source": [
    "columns_to_check = ['airport_flights_month', 'airline_flights_month', 'airline_airport_flights_month', 'avg_monthly_pass_airport', 'avg_monthly_pass_airline']\n",
    "\n",
    "negative_values = flights[flights[columns_to_check].lt(0).any(axis=1)]\n",
    "\n",
    "print(\"Valores negativos encontrados en las columnas especificadas:\")\n",
    "print(negative_values)"
   ]
  },
  {
   "cell_type": "markdown",
   "metadata": {},
   "source": [
    "No encontramos valores negativos en estas columnas "
   ]
  },
  {
   "cell_type": "markdown",
   "metadata": {},
   "source": [
    "Mostramos los valores unicos y la cantidad de veces que salen de la columna carrier_name "
   ]
  },
  {
   "cell_type": "code",
   "execution_count": 39,
   "metadata": {},
   "outputs": [
    {
     "name": "stdout",
     "output_type": "stream",
     "text": [
      "                           value   count\n",
      "0         Southwest Airlines Co.  208986\n",
      "1           Delta Air Lines Inc.  152319\n",
      "2         American Airlines Inc.  145919\n",
      "3          United Air Lines Inc.   96959\n",
      "4          SkyWest Airlines Inc.   94620\n",
      "5          Midwest Airline. Inc.   48448\n",
      "6                JetBlue Airways   43243\n",
      "7           Alaska Airlines Inc.   38938\n",
      "8   American Eagle Airlines Inc.   37053\n",
      "9                    Comair Inc.   35322\n",
      "10             Endeavor Air Inc.   32637\n",
      "11              Spirit Air Lines   30101\n",
      "12            Mesa Airlines Inc.   28690\n",
      "13        Frontier Airlines Inc.   19715\n",
      "14   Atlantic Southeast Airlines   15874\n",
      "15        Hawaiian Airlines Inc.   12145\n",
      "16                 Allegiant Air    6761\n"
     ]
    }
   ],
   "source": [
    "carrier_name_counts = flights['carrier_name'].value_counts().reset_index()\n",
    "carrier_name_counts.columns = ['value', 'count']\n",
    "print(carrier_name_counts)"
   ]
  },
  {
   "cell_type": "markdown",
   "metadata": {},
   "source": [
    "Tenemos que hay 16 aereolinias diferentes y nos muestra el número de vuelos asociados a cada aerolínea en el conjunto de datos."
   ]
  },
  {
   "cell_type": "markdown",
   "metadata": {},
   "source": [
    "Miramos la cantidad de valores unicos de las columnas departing_airport, y previus_airport"
   ]
  },
  {
   "cell_type": "code",
   "execution_count": 52,
   "metadata": {},
   "outputs": [
    {
     "name": "stdout",
     "output_type": "stream",
     "text": [
      "96\n",
      "354\n"
     ]
    }
   ],
   "source": [
    "unique_values_departing_airport = flights['departing_airport'].nunique()\n",
    "\n",
    "unique_values_previous_airport = flights['previous_airport'].nunique()\n",
    "\n",
    "print(unique_values_departing_airport)\n",
    "print(unique_values_previous_airport)"
   ]
  },
  {
   "cell_type": "markdown",
   "metadata": {},
   "source": [
    "Este resultado nos dice que hay vuelos que salen de 95 aereopuertos diferentes (Devido a que un dato en esa columna no es un aereopuerto si no es NONE), y que hay 354 aereopuertos diferentes que figuran como el aereopuerto anterior en los datos "
   ]
  },
  {
   "cell_type": "markdown",
   "metadata": {},
   "source": [
    "La diferencia en la cantidad de valores únicos entre estas dos columnas refleja la diversidad de rutas y conexiones en los datos, con más variedad en los aeropuertos de origen previos en comparación con los aeropuertos de salida."
   ]
  },
  {
   "cell_type": "markdown",
   "metadata": {},
   "source": [
    "Revisamos la columna flt_attendants_per_pass"
   ]
  },
  {
   "cell_type": "code",
   "execution_count": 59,
   "metadata": {},
   "outputs": [
    {
     "name": "stdout",
     "output_type": "stream",
     "text": [
      "0    6.178236e+10\n",
      "1    1.157260e+16\n",
      "2    2.538040e+16\n",
      "3    6.178236e+10\n",
      "4    1.600390e+15\n",
      "5    6.178236e+10\n",
      "6    1.441660e+15\n",
      "7    1.441660e+15\n",
      "8    3.484080e+16\n",
      "9    6.178236e+10\n",
      "Name: flt_attendants_per_pass, dtype: float64\n"
     ]
    }
   ],
   "source": [
    "print(flights['flt_attendants_per_pass'].head(10))"
   ]
  },
  {
   "cell_type": "markdown",
   "metadata": {},
   "source": [
    "Debido a que son datos demasiado grandes para representar auxiliares de vuelo por pasajero, la eliminamos del dataset "
   ]
  },
  {
   "cell_type": "code",
   "execution_count": 60,
   "metadata": {},
   "outputs": [],
   "source": [
    "flights = flights.drop(columns=['flt_attendants_per_pass'])"
   ]
  },
  {
   "cell_type": "markdown",
   "metadata": {},
   "source": [
    "Revisamos la columna ground_serv_per_pass"
   ]
  },
  {
   "cell_type": "code",
   "execution_count": 61,
   "metadata": {},
   "outputs": [
    {
     "name": "stdout",
     "output_type": "stream",
     "text": [
      "0    9.889412e+10\n",
      "1    7.134695e+09\n",
      "2    2.289850e+16\n",
      "3    9.889412e+10\n",
      "4    1.268660e+16\n",
      "5    9.889412e+10\n",
      "6    1.486600e+15\n",
      "7    1.486600e+15\n",
      "8    1.068670e+16\n",
      "9    9.889412e+10\n",
      "Name: ground_serv_per_pass, dtype: float64\n"
     ]
    }
   ],
   "source": [
    "print(flights['ground_serv_per_pass'].head(10))"
   ]
  },
  {
   "cell_type": "markdown",
   "metadata": {},
   "source": [
    "Debido a que son datos demasiado grandes para representar la cantidad de personal en tierra por pasajero, tambien la eliminamos del dataset "
   ]
  },
  {
   "cell_type": "code",
   "execution_count": 62,
   "metadata": {},
   "outputs": [],
   "source": [
    "flights = flights.drop(columns=['ground_serv_per_pass'])"
   ]
  },
  {
   "cell_type": "markdown",
   "metadata": {},
   "source": [
    "Revisamos las columnas carrier_historical, dep_airport_hist, day_historical, dep_block_hist"
   ]
  },
  {
   "cell_type": "code",
   "execution_count": 64,
   "metadata": {},
   "outputs": [
    {
     "name": "stdout",
     "output_type": "stream",
     "text": [
      "   carrier_historical  dep_airport_hist  day_historical  dep_block_hist\n",
      "0        1.248290e+16      1.528070e+16    1.673210e+16    1.892080e+16\n",
      "1        2.116660e+15      1.878670e+16    1.608680e+15    2.163590e+16\n",
      "2        1.818820e+16      1.878670e+16    1.806070e+16    2.107150e+16\n",
      "3        2.597750e+15      2.377930e+16    2.323880e+16    3.277900e+16\n",
      "4        3.166630e+15      2.284980e+16    1.618700e+16    1.651240e+16\n"
     ]
    }
   ],
   "source": [
    "columns_of_interest = ['carrier_historical', 'dep_airport_hist', 'day_historical', 'dep_block_hist']\n",
    "\n",
    "print(flights[columns_of_interest].head())"
   ]
  },
  {
   "cell_type": "markdown",
   "metadata": {},
   "source": [
    "Estos datos representan números extremadamente grandes y no parece representar datos como identificadores de aerolíneas, aeropuertos, días o bloques de salida. por lo tanto tambien eliminaremos esas columnas."
   ]
  },
  {
   "cell_type": "code",
   "execution_count": 65,
   "metadata": {},
   "outputs": [],
   "source": [
    "columns_to_remove = ['carrier_historical', 'dep_airport_hist', 'day_historical', 'dep_block_hist']\n",
    "\n",
    "flights = flights.drop(columns=columns_to_remove)"
   ]
  },
  {
   "cell_type": "markdown",
   "metadata": {},
   "source": [
    "Verificamos las columnas del dataset para corroborar la eliminacion de estas "
   ]
  },
  {
   "cell_type": "code",
   "execution_count": 66,
   "metadata": {},
   "outputs": [
    {
     "name": "stdout",
     "output_type": "stream",
     "text": [
      "Index(['month', 'day_of_week', 'dep_del15', 'dep_time_blk', 'distance_group',\n",
      "       'segment_number', 'concurrent_flights', 'number_of_seats',\n",
      "       'carrier_name', 'airport_flights_month', 'airline_flights_month',\n",
      "       'airline_airport_flights_month', 'avg_monthly_pass_airport',\n",
      "       'avg_monthly_pass_airline', 'plane_age', 'departing_airport',\n",
      "       'latitude', 'longitude', 'previous_airport', 'prcp', 'snow', 'snwd',\n",
      "       'tmax', 'awnd'],\n",
      "      dtype='object')\n"
     ]
    }
   ],
   "source": [
    "print(flights.columns)"
   ]
  },
  {
   "cell_type": "markdown",
   "metadata": {},
   "source": [
    "Revisamos las variables de latitude y longitude "
   ]
  },
  {
   "cell_type": "code",
   "execution_count": 67,
   "metadata": {},
   "outputs": [
    {
     "name": "stdout",
     "output_type": "stream",
     "text": [
      "   longitude  latitude\n",
      "0   -10488.0   39774.0\n",
      "1   -90364.0   38747.0\n",
      "2    -9534.0   29983.0\n",
      "3   -90364.0   38747.0\n",
      "4   -71006.0   42364.0\n"
     ]
    }
   ],
   "source": [
    "columns_of_interest = ['longitude', 'latitude']\n",
    "\n",
    "print(flights[columns_of_interest].head())"
   ]
  },
  {
   "cell_type": "markdown",
   "metadata": {},
   "source": [
    "Los valores en las columnas latitude y longitude parecen estar escalados por un factor de 1000. En su formato actual, es probable que representen coordenadas geográficas, pero multiplicadas por 1000. Para convertirlas a su formato original o apropiado, dvamos a dividir cada valor por 1000."
   ]
  },
  {
   "cell_type": "code",
   "execution_count": 68,
   "metadata": {},
   "outputs": [],
   "source": [
    "flights['latitude'] = flights['latitude'] / 1000\n",
    "flights['longitude'] = flights['longitude'] / 1000"
   ]
  },
  {
   "cell_type": "markdown",
   "metadata": {},
   "source": [
    "Comprobamos el cambio"
   ]
  },
  {
   "cell_type": "code",
   "execution_count": 69,
   "metadata": {},
   "outputs": [
    {
     "name": "stdout",
     "output_type": "stream",
     "text": [
      "   longitude  latitude\n",
      "0    -10.488    39.774\n",
      "1    -90.364    38.747\n",
      "2     -9.534    29.983\n",
      "3    -90.364    38.747\n",
      "4    -71.006    42.364\n"
     ]
    }
   ],
   "source": [
    "columns_of_interest = ['longitude', 'latitude']\n",
    "\n",
    "print(flights[columns_of_interest].head())"
   ]
  },
  {
   "cell_type": "markdown",
   "metadata": {},
   "source": [
    "Revisamos las columnas  prcp, snow, snwd, tmax, awnd\n",
    "\n"
   ]
  },
  {
   "cell_type": "code",
   "execution_count": 73,
   "metadata": {},
   "outputs": [
    {
     "name": "stdout",
     "output_type": "stream",
     "text": [
      "   prcp  snow  snwd   tmax    awnd\n",
      "0   0.0   0.0   0.0  760.0  1007.0\n",
      "1   0.0   0.0   0.0  520.0   403.0\n",
      "2   0.0   0.0   0.0  830.0   604.0\n",
      "3   0.0   0.0   0.0  830.0   492.0\n",
      "4   0.0   0.0   0.0  820.0  1297.0\n"
     ]
    }
   ],
   "source": [
    "columns_of_interest = ['prcp', 'snow', 'snwd', 'tmax', 'awnd']\n",
    "\n",
    "print(flights[columns_of_interest].head())"
   ]
  },
  {
   "cell_type": "markdown",
   "metadata": {},
   "source": [
    "Los valores en las columnas PRCP (precipitación), SNOW (nieve), SNWD (profundidad de nieve), TMAX (temperatura máxima), y AWND (velocidad promedio del viento) parecen ser datos meteorológicos que pueden estar en un formato numérico específico.\n",
    "\n",
    "Interpretación de los Valores:\n",
    "prc (Precipitación en pulgadas): Los valores 0 y 1 indican la cantidad de precipitación. Si estos valores están en pulgadas, 1 podría representar 0.1 pulgadas, que es común en algunos registros meteorológicos.\n",
    "\n",
    "snow (en décimas de pulgadas):  Un valor de 172 podría representar 17.2 pulgadas de nieve, lo cual es una cantidad considerable.\n",
    "\n",
    "tmax (Temperatura máxima en décimas de grados Celsius): Los valores como 950 y 710 probablemente representan temperaturas en décimas de grados Celsius. Por ejemplo, 950 podría significar 95.0 °C, lo cual es extremadamente alto, lo que sugiere que estos valores tal vez necesiten un ajuste.\n",
    "\n",
    "AWND (Velocidad promedio del viento en décimas de metros por segundo): Valores como 425 y 1141 podrían representar la velocidad del viento en décimas de metros por segundo. Por ejemplo, 425 significaría 42.5 m/s, que es una velocidad de viento extremadamente alta."
   ]
  },
  {
   "cell_type": "markdown",
   "metadata": {},
   "source": [
    "Vamos a dividir las columnas por 10 para la convercion de los valores a un formato mas comprencible y adecuado para hacer un analisis y una visualizacion de datos "
   ]
  },
  {
   "cell_type": "code",
   "execution_count": 75,
   "metadata": {},
   "outputs": [],
   "source": [
    "flights['prcp'] = flights['prcp'] / 10\n",
    "flights['tmax'] = flights['tmax'] / 10\n",
    "flights['awnd'] = flights['awnd'] / 10\n",
    "flights['snow'] = flights['snow'] / 10"
   ]
  },
  {
   "cell_type": "markdown",
   "metadata": {},
   "source": [
    "Revisamos las columnas para verificar la convercion "
   ]
  },
  {
   "cell_type": "code",
   "execution_count": 76,
   "metadata": {},
   "outputs": [
    {
     "name": "stdout",
     "output_type": "stream",
     "text": [
      "   prcp  snow  snwd  tmax   awnd\n",
      "0   0.0   0.0   0.0  76.0  100.7\n",
      "1   0.0   0.0   0.0  52.0   40.3\n",
      "2   0.0   0.0   0.0  83.0   60.4\n",
      "3   0.0   0.0   0.0  83.0   49.2\n",
      "4   0.0   0.0   0.0  82.0  129.7\n"
     ]
    }
   ],
   "source": [
    "columns_of_interest = ['prcp', 'snow', 'snwd', 'tmax', 'awnd']\n",
    "\n",
    "print(flights[columns_of_interest].head())"
   ]
  },
  {
   "cell_type": "markdown",
   "metadata": {},
   "source": [
    "#### Análisis Univariado:"
   ]
  },
  {
   "cell_type": "code",
   "execution_count": null,
   "metadata": {},
   "outputs": [],
   "source": []
  },
  {
   "cell_type": "markdown",
   "metadata": {},
   "source": [
    "#### Análisis Bivariado:"
   ]
  },
  {
   "cell_type": "code",
   "execution_count": null,
   "metadata": {},
   "outputs": [],
   "source": []
  },
  {
   "cell_type": "markdown",
   "metadata": {},
   "source": [
    "#### Análisis Multivariado"
   ]
  },
  {
   "cell_type": "code",
   "execution_count": null,
   "metadata": {},
   "outputs": [],
   "source": []
  },
  {
   "cell_type": "markdown",
   "metadata": {},
   "source": [
    "#### Resumen y Conclusiones:"
   ]
  },
  {
   "cell_type": "code",
   "execution_count": null,
   "metadata": {},
   "outputs": [],
   "source": []
  },
  {
   "cell_type": "markdown",
   "metadata": {},
   "source": [
    "#### Dataset Transformado "
   ]
  },
  {
   "cell_type": "code",
   "execution_count": null,
   "metadata": {},
   "outputs": [],
   "source": []
  }
 ],
 "metadata": {
  "kernelspec": {
   "display_name": "venv",
   "language": "python",
   "name": "python3"
  },
  "language_info": {
   "codemirror_mode": {
    "name": "ipython",
    "version": 3
   },
   "file_extension": ".py",
   "mimetype": "text/x-python",
   "name": "python",
   "nbconvert_exporter": "python",
   "pygments_lexer": "ipython3",
   "version": "3.12.4"
  }
 },
 "nbformat": 4,
 "nbformat_minor": 2
}
